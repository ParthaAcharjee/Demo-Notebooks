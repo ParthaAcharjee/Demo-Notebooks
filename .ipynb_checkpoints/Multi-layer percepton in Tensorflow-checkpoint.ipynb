{
 "cells": [
  {
   "cell_type": "markdown",
   "metadata": {},
   "source": [
    "# Multi-layer percepton in Tensorflow\n",
    "In this notebook, we are going to implement a Multi-layer percepton (MLP) in tensorflow. First, let us import the MNIST dataset from the tensorflow example dataset, and define few parameters for the system."
   ]
  },
  {
   "cell_type": "code",
   "execution_count": 1,
   "metadata": {},
   "outputs": [
    {
     "name": "stdout",
     "output_type": "stream",
     "text": [
      "Extracting F:/Deep Learning/MNIST_data/train-images-idx3-ubyte.gz\n",
      "Extracting F:/Deep Learning/MNIST_data/train-labels-idx1-ubyte.gz\n",
      "Extracting F:/Deep Learning/MNIST_data/t10k-images-idx3-ubyte.gz\n",
      "Extracting F:/Deep Learning/MNIST_data/t10k-labels-idx1-ubyte.gz\n"
     ]
    }
   ],
   "source": [
    "import tensorflow as tf\n",
    "import numpy as np\n",
    "import matplotlib.pyplot as plt\n",
    "\n",
    "from tensorflow.examples.tutorials.mnist import input_data\n",
    "mnist = input_data.read_data_sets(\"F:/Deep Learning/MNIST_data/\", one_hot=True)\n",
    "\n",
    "\n",
    "batchSize=100\n",
    "maxIteration=int(mnist.train.images.shape[0]/batchSize)+1\n",
    "total_epoch=20"
   ]
  },
  {
   "cell_type": "markdown",
   "metadata": {},
   "source": [
    "## Define MLP structure\n",
    "The structure of the MLP is defined as follows,"
   ]
  },
  {
   "cell_type": "code",
   "execution_count": 2,
   "metadata": {
    "collapsed": true
   },
   "outputs": [],
   "source": [
    "imgSize=28\n",
    "outputs=10\n",
    "# Three hidden layers, input and output layers\n",
    "inputs=imgSize*imgSize\n",
    "layers=[inputs,400,200,100,outputs]"
   ]
  },
  {
   "cell_type": "markdown",
   "metadata": {},
   "source": [
    "Define input and output placeholders of the MLP"
   ]
  },
  {
   "cell_type": "code",
   "execution_count": 3,
   "metadata": {
    "collapsed": true
   },
   "outputs": [],
   "source": [
    "xnode=tf.placeholder(tf.float32,[None,inputs])\n",
    "ynode=tf.placeholder(tf.float32,[None,outputs])"
   ]
  },
  {
   "cell_type": "markdown",
   "metadata": {},
   "source": [
    "Now, we define a function to set a single layers of percepton. We'll call this function to define each hidden layers and the output layer. Each layer contains wights (w) and bias (b). Hidden layers provide output after a ReLU unit, and output layer left it for the softmax function."
   ]
  },
  {
   "cell_type": "code",
   "execution_count": 4,
   "metadata": {
    "collapsed": true
   },
   "outputs": [],
   "source": [
    "def single_percepton(x,n_inputs,n_nurons,hidden='Yes'):\n",
    "    w=tf.Variable(tf.random_normal([n_inputs,n_nurons]))\n",
    "    b=tf.Variable(tf.random_normal([n_nurons]))\n",
    "    activation=tf.add(tf.matmul(x,w),b)\n",
    "    if hidden=='Yes': return tf.nn.relu(activation)\n",
    "    else: return activation"
   ]
  },
  {
   "cell_type": "markdown",
   "metadata": {},
   "source": [
    "We call the single layer function multiple time to defien all layers as follows,"
   ]
  },
  {
   "cell_type": "code",
   "execution_count": 5,
   "metadata": {
    "collapsed": true
   },
   "outputs": [],
   "source": [
    "def multiple_percepton(x,layers):\n",
    "    l=[x]      \n",
    "    for i in range(len(layers)-1):\n",
    "        if(i<len(layers)-2): l.append(single_percepton(l[i],layers[i],layers[i+1]))\n",
    "        else:l.append(single_percepton(l[i],layers[i],layers[i+1],hidden='No'))      \n",
    "    return l"
   ]
  },
  {
   "cell_type": "markdown",
   "metadata": {},
   "source": [
    "We just receive output from all layers. Output from the last layer has been defined as the outputnode."
   ]
  },
  {
   "cell_type": "code",
   "execution_count": 6,
   "metadata": {
    "collapsed": true
   },
   "outputs": [],
   "source": [
    "l=multiple_percepton(xnode,layers)\n",
    "outnode=l[-1:]"
   ]
  },
  {
   "cell_type": "markdown",
   "metadata": {},
   "source": [
    "## Define the cost function and performance measure\n",
    "We are going to minimize average cross entropy between the estimation and the ground true. We also define the accuracy as the performance measure of our estiamtion."
   ]
  },
  {
   "cell_type": "code",
   "execution_count": 7,
   "metadata": {
    "collapsed": true
   },
   "outputs": [],
   "source": [
    "#Cost function and optimizer\n",
    "cost = tf.reduce_mean(tf.nn.softmax_cross_entropy_with_logits(logits=outnode, labels=ynode))\n",
    "optimizer = tf.train.AdamOptimizer(0.001).minimize(cost)\n",
    "\n",
    "#Performance measure\n",
    "yestimate=tf.nn.softmax(outnode)\n",
    "yestimate=tf.argmax(yestimate,dimension=2)\n",
    "ytrue=tf.argmax(ynode,dimension=1)\n",
    "correct_prediction=tf.equal(ytrue,yestimate)\n",
    "accuracy=tf.reduce_mean(tf.cast(correct_prediction,tf.float32))"
   ]
  },
  {
   "cell_type": "markdown",
   "metadata": {},
   "source": [
    "## Start Tensor Session\n",
    "Now, we initialize our tensor session. Let us see the cost and accuracy on the test dataset. We'll examine it again after training."
   ]
  },
  {
   "cell_type": "code",
   "execution_count": 8,
   "metadata": {},
   "outputs": [
    {
     "name": "stdout",
     "output_type": "stream",
     "text": [
      "\n",
      "(Before training) Test accuracy:13.18% Test Cost: 1.2532e+04\n"
     ]
    }
   ],
   "source": [
    "sess=tf.Session()\n",
    "sess.run(tf.global_variables_initializer())\n",
    "\n",
    "x_test=mnist.test.images\n",
    "y_test=mnist.test.labels\n",
    "\n",
    "c,acc=sess.run([cost,accuracy],feed_dict={xnode:x_test,ynode:y_test})\n",
    "print(\"\\n(Before training) Test accuracy:{0:1.2%} Test Cost: {1:.5}\".format(acc,c))"
   ]
  },
  {
   "cell_type": "markdown",
   "metadata": {},
   "source": [
    "Before training, the accuracy is very low. Let us train the MLP for multiple epochs."
   ]
  },
  {
   "cell_type": "code",
   "execution_count": 9,
   "metadata": {},
   "outputs": [
    {
     "name": "stdout",
     "output_type": "stream",
     "text": [
      "Epoch:  1 Training Cost: 194.1\n",
      "Epoch:  2 Training Cost: 108.54\n",
      "Epoch:  3 Training Cost: 33.78\n",
      "Epoch:  4 Training Cost: 24.128\n",
      "Epoch:  5 Training Cost: 20.419\n",
      "Epoch:  6 Training Cost: 31.6\n",
      "Epoch:  7 Training Cost: 8.4812\n",
      "Epoch:  8 Training Cost: 29.625\n",
      "Epoch:  9 Training Cost: 2.4259\n",
      "Epoch: 10 Training Cost: 7.7255\n",
      "Epoch: 11 Training Cost: 18.39\n",
      "Epoch: 12 Training Cost: 7.3517\n",
      "Epoch: 13 Training Cost: 9.5812\n",
      "Epoch: 14 Training Cost: 3.7044\n",
      "Epoch: 15 Training Cost: 1.4229\n",
      "Epoch: 16 Training Cost: 0.0\n",
      "Epoch: 17 Training Cost: 0.0\n",
      "Epoch: 18 Training Cost: 1.754\n",
      "Epoch: 19 Training Cost: 1.8375\n",
      "Epoch: 20 Training Cost: 0.0\n"
     ]
    }
   ],
   "source": [
    "costAll=[]\n",
    "for epoch in range(total_epoch):\n",
    "    for i in range(maxIteration):\n",
    "        x_batch,y_batch=mnist.train.next_batch(batchSize)\n",
    "        _,c=sess.run([optimizer,cost],feed_dict={xnode:x_batch,ynode:y_batch})\n",
    "        costAll.append(c)\n",
    "    print(\"Epoch: {0:2} Training Cost: {1:.5}\".format(epoch+1,c))"
   ]
  },
  {
   "cell_type": "markdown",
   "metadata": {},
   "source": [
    "Accuracy on the test dataset should significantly imporive after training."
   ]
  },
  {
   "cell_type": "code",
   "execution_count": 10,
   "metadata": {},
   "outputs": [
    {
     "name": "stdout",
     "output_type": "stream",
     "text": [
      "\n",
      "(After training) Test accuracy:94.93% Test Cost: 73.233\n"
     ]
    }
   ],
   "source": [
    "c,acc=sess.run([cost,accuracy],feed_dict={xnode:x_test,ynode:y_test})\n",
    "print(\"\\n(After training) Test accuracy:{0:1.2%} Test Cost: {1:.5}\".format(acc,c))"
   ]
  },
  {
   "cell_type": "markdown",
   "metadata": {},
   "source": [
    "The training cost is also minimized over iteration."
   ]
  },
  {
   "cell_type": "code",
   "execution_count": 11,
   "metadata": {},
   "outputs": [
    {
     "data": {
      "image/png": "[encoded data removed]",
      "text/plain": [
       "<matplotlib.figure.Figure at 0xf293d30>"
      ]
     },
     "metadata": {},
     "output_type": "display_data"
    }
   ],
   "source": [
    "plt.plot(costAll)\n",
    "plt.xlabel('Iteration (all epoch)')\n",
    "plt.ylabel('Cost')\n",
    "plt.title('Training cost over iteration')\n",
    "plt.show()"
   ]
  },
  {
   "cell_type": "markdown",
   "metadata": {},
   "source": [
    "We can examine the structure of the MLP system from the outputs for all layers."
   ]
  },
  {
   "cell_type": "code",
   "execution_count": 12,
   "metadata": {},
   "outputs": [
    {
     "data": {
      "text/plain": [
       "[<tf.Tensor 'Placeholder:0' shape=(?, 784) dtype=float32>,\n",
       " <tf.Tensor 'Relu:0' shape=(?, 400) dtype=float32>,\n",
       " <tf.Tensor 'Relu_1:0' shape=(?, 200) dtype=float32>,\n",
       " <tf.Tensor 'Relu_2:0' shape=(?, 100) dtype=float32>,\n",
       " <tf.Tensor 'Add_3:0' shape=(?, 10) dtype=float32>]"
      ]
     },
     "execution_count": 12,
     "metadata": {},
     "output_type": "execute_result"
    }
   ],
   "source": [
    "l"
   ]
  }
 ],
 "metadata": {
  "kernelspec": {
   "display_name": "Python 3",
   "language": "python",
   "name": "python3"
  },
  "language_info": {
   "codemirror_mode": {
    "name": "ipython",
    "version": 3
   },
   "file_extension": ".py",
   "mimetype": "text/x-python",
   "name": "python",
   "nbconvert_exporter": "python",
   "pygments_lexer": "ipython3",
   "version": "3.6.1"
  }
 },
 "nbformat": 4,
 "nbformat_minor": 2
}
