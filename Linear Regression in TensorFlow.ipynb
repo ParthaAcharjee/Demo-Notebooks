{
 "cells": [
  {
   "cell_type": "markdown",
   "metadata": {},
   "source": [
    "# Linear regression in TensorFlow\n",
    "This a demo notebook to practice linear regression in tensorflow. First, we'll import the MNIST dataset from the tensorflow tutorial dataset.\n",
    "\n",
    "## Prepare model and estimator"
   ]
  },
  {
   "cell_type": "code",
   "execution_count": 10,
   "metadata": {},
   "outputs": [
    {
     "name": "stdout",
     "output_type": "stream",
     "text": [
      "Extracting F:/Deep Learning/MNIST_data/train-images-idx3-ubyte.gz\n",
      "Extracting F:/Deep Learning/MNIST_data/train-labels-idx1-ubyte.gz\n",
      "Extracting F:/Deep Learning/MNIST_data/t10k-images-idx3-ubyte.gz\n",
      "Extracting F:/Deep Learning/MNIST_data/t10k-labels-idx1-ubyte.gz\n"
     ]
    }
   ],
   "source": [
    "import tensorflow as tf\n",
    "import numpy as np\n",
    "\n",
    "from tensorflow.examples.tutorials.mnist import input_data\n",
    "mnist = input_data.read_data_sets(\"F:/Deep Learning/MNIST_data/\", one_hot=True)\n",
    "\n",
    "imgSize=28\n",
    "imgSize_flat=imgSize*imgSize\n",
    "numClasses=10"
   ]
  },
  {
   "cell_type": "markdown",
   "metadata": {},
   "source": [
    "Now, we'll define the tensorflow graph. All inputs variables are defined as placeholders. All model parameters are defined as variables."
   ]
  },
  {
   "cell_type": "code",
   "execution_count": 11,
   "metadata": {
    "collapsed": true
   },
   "outputs": [],
   "source": [
    "# Place holders\n",
    "x=tf.placeholder(tf.float32,[None,imgSize_flat])\n",
    "y=tf.placeholder(tf.float32,[None,numClasses])\n",
    "\n",
    "yClass=tf.placeholder(tf.int64,[None])\n",
    "\n",
    "\n",
    "# Variables\n",
    "W=tf.Variable(tf.zeros([imgSize_flat,numClasses]))\n",
    "b=tf.Variable(tf.zeros([numClasses]))"
   ]
  },
  {
   "cell_type": "markdown",
   "metadata": {},
   "source": [
    "We define the linear model as y_prediction=Wx+b, and then derived the class from the one hot encodded y_prediciton."
   ]
  },
  {
   "cell_type": "code",
   "execution_count": 12,
   "metadata": {
    "collapsed": true
   },
   "outputs": [],
   "source": [
    "#Models\n",
    "logits=tf.matmul(x,W)+b\n",
    "yPredict=tf.nn.softmax(logits)\n",
    "\n",
    "yClass_predict=tf.argmax(yPredict,dimension=1)"
   ]
  },
  {
   "cell_type": "markdown",
   "metadata": {},
   "source": [
    "Then, we define the cost function and optimizer to estimate the model parameters for the given cost function."
   ]
  },
  {
   "cell_type": "code",
   "execution_count": 13,
   "metadata": {
    "collapsed": true
   },
   "outputs": [],
   "source": [
    "#Cost function and optimization\n",
    "cross_entropy=tf.nn.softmax_cross_entropy_with_logits(logits=logits,labels=y)\n",
    "cost=tf.reduce_mean(cross_entropy)\n",
    "\n",
    "optimizer=tf.train.GradientDescentOptimizer(learning_rate=0.5).minimize(cost)"
   ]
  },
  {
   "cell_type": "markdown",
   "metadata": {},
   "source": [
    "Accuracy is defined as the performance paramter for our estimation."
   ]
  },
  {
   "cell_type": "code",
   "execution_count": 14,
   "metadata": {
    "collapsed": true
   },
   "outputs": [],
   "source": [
    "# Performance measure\n",
    "correct_prediction=tf.equal(yClass_predict,yClass)\n",
    "accuracy=tf.reduce_mean(tf.cast(correct_prediction,tf.float32))"
   ]
  },
  {
   "cell_type": "markdown",
   "metadata": {},
   "source": [
    "We also define a function to calculate test dataset accuracy with the current state of the model."
   ]
  },
  {
   "cell_type": "code",
   "execution_count": 15,
   "metadata": {
    "collapsed": true
   },
   "outputs": [],
   "source": [
    "def testAccuracy():\n",
    "    yClasstest = np.argmax(mnist.test.labels,1)\n",
    "    feed_dict_test={x:mnist.test.images,y:mnist.test.labels,yClass:yClasstest}      \n",
    "    testAccuracy=sess.run(accuracy,feed_dict=feed_dict_test)\n",
    "    return testAccuracy"
   ]
  },
  {
   "cell_type": "markdown",
   "metadata": {},
   "source": [
    "## Run tensorflow session\n",
    "Now, we start our tensorflow session. We'll estimate model parameter using Stochastic Gradient Descent approach (Batchwise GD)."
   ]
  },
  {
   "cell_type": "code",
   "execution_count": 16,
   "metadata": {},
   "outputs": [
    {
     "name": "stdout",
     "output_type": "stream",
     "text": [
      "\n",
      "Initial accuracy on test-set: 9.8%\n",
      "\n",
      "Iteration:    1 Training Accuracy: 52.4%\n",
      "Iteration:  101 Training Accuracy: 89.8%\n",
      "Iteration:  201 Training Accuracy: 90.7%\n",
      "Iteration:  301 Training Accuracy: 91.0%\n",
      "Iteration:  401 Training Accuracy: 91.4%\n",
      "Iteration:  501 Training Accuracy: 90.6%\n",
      "Iteration:  601 Training Accuracy: 91.4%\n",
      "Iteration:  701 Training Accuracy: 91.5%\n",
      "Iteration:  801 Training Accuracy: 91.7%\n",
      "Iteration:  901 Training Accuracy: 91.4%\n",
      "Iteration: 1001 Training Accuracy: 91.9%\n",
      "Iteration: 1101 Training Accuracy: 92.2%\n",
      "Iteration: 1201 Training Accuracy: 91.8%\n",
      "Iteration: 1301 Training Accuracy: 92.0%\n",
      "Iteration: 1401 Training Accuracy: 91.9%\n",
      "Iteration: 1501 Training Accuracy: 92.1%\n",
      "Iteration: 1601 Training Accuracy: 92.1%\n",
      "Iteration: 1701 Training Accuracy: 92.2%\n",
      "Iteration: 1801 Training Accuracy: 92.1%\n",
      "Iteration: 1901 Training Accuracy: 91.6%\n",
      "Iteration: 2001 Training Accuracy: 92.2%\n",
      "Iteration: 2101 Training Accuracy: 92.0%\n",
      "Iteration: 2201 Training Accuracy: 92.0%\n",
      "Iteration: 2301 Training Accuracy: 92.2%\n",
      "Iteration: 2401 Training Accuracy: 92.2%\n",
      "Iteration: 2501 Training Accuracy: 92.2%\n",
      "Iteration: 2601 Training Accuracy: 92.2%\n",
      "Iteration: 2701 Training Accuracy: 92.4%\n",
      "Iteration: 2801 Training Accuracy: 92.0%\n",
      "Iteration: 2901 Training Accuracy: 91.9%\n",
      "Iteration: 3001 Training Accuracy: 92.3%\n",
      "Iteration: 3101 Training Accuracy: 92.3%\n",
      "Iteration: 3201 Training Accuracy: 92.3%\n",
      "Iteration: 3301 Training Accuracy: 91.8%\n",
      "Iteration: 3401 Training Accuracy: 92.1%\n",
      "Iteration: 3501 Training Accuracy: 91.9%\n",
      "Iteration: 3601 Training Accuracy: 92.3%\n",
      "Iteration: 3701 Training Accuracy: 92.2%\n",
      "Iteration: 3801 Training Accuracy: 92.4%\n",
      "Iteration: 3901 Training Accuracy: 92.3%\n",
      "Iteration: 4001 Training Accuracy: 92.4%\n",
      "Iteration: 4101 Training Accuracy: 92.1%\n",
      "Iteration: 4201 Training Accuracy: 92.4%\n",
      "Iteration: 4301 Training Accuracy: 92.3%\n",
      "Iteration: 4401 Training Accuracy: 92.4%\n",
      "Iteration: 4501 Training Accuracy: 92.2%\n",
      "Iteration: 4601 Training Accuracy: 92.1%\n",
      "Iteration: 4701 Training Accuracy: 92.3%\n",
      "Iteration: 4801 Training Accuracy: 92.1%\n",
      "Iteration: 4901 Training Accuracy: 92.2%\n",
      "\n",
      "Final accuracy on test-set: 92.2%\n"
     ]
    }
   ],
   "source": [
    "sess=tf.Session()\n",
    "sess.run(tf.global_variables_initializer())\n",
    "\n",
    "batchSize=100\n",
    "maxIteration=5000\n",
    "\n",
    "print(\"\\nInitial accuracy on test-set: {0:.1%}\\n\".format(testAccuracy()))\n",
    "\n",
    "for i in range(maxIteration):\n",
    "    x_batch,y_batch=mnist.train.next_batch(batchSize)\n",
    "    feed_dict_train={x:x_batch,y:y_batch}\n",
    "    sess.run(optimizer,feed_dict=feed_dict_train)\n",
    "    \n",
    "    if i%100==0:\n",
    "        print(\"Iteration: {0:4} Training Accuracy: {1:.1%}\".format(i+1,testAccuracy()))\n",
    "    \n",
    "print(\"\\nFinal accuracy on test-set: {0:.1%}\".format(testAccuracy()))\n"
   ]
  },
  {
   "cell_type": "code",
   "execution_count": null,
   "metadata": {
    "collapsed": true
   },
   "outputs": [],
   "source": []
  }
 ],
 "metadata": {
  "kernelspec": {
   "display_name": "Python 3",
   "language": "python",
   "name": "python3"
  },
  "language_info": {
   "codemirror_mode": {
    "name": "ipython",
    "version": 3
   },
   "file_extension": ".py",
   "mimetype": "text/x-python",
   "name": "python",
   "nbconvert_exporter": "python",
   "pygments_lexer": "ipython3",
   "version": "3.6.1"
  }
 },
 "nbformat": 4,
 "nbformat_minor": 2
}
